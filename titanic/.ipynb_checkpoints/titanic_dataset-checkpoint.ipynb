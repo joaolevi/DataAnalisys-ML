{
 "cells": [
  {
   "cell_type": "code",
   "execution_count": 1,
   "metadata": {},
   "outputs": [],
   "source": [
    "import numpy as np\n",
    "import pandas as pd\n",
    "import re"
   ]
  },
  {
   "cell_type": "code",
   "execution_count": 2,
   "metadata": {},
   "outputs": [],
   "source": [
    "path = \"../dataset/titanic/\""
   ]
  },
  {
   "cell_type": "code",
   "execution_count": 3,
   "metadata": {},
   "outputs": [],
   "source": [
    "dt_train = pd.read_csv(path+\"train.csv\")"
   ]
  },
  {
   "cell_type": "code",
   "execution_count": 4,
   "metadata": {
    "scrolled": true
   },
   "outputs": [
    {
     "data": {
      "text/html": [
       "<div>\n",
       "<style scoped>\n",
       "    .dataframe tbody tr th:only-of-type {\n",
       "        vertical-align: middle;\n",
       "    }\n",
       "\n",
       "    .dataframe tbody tr th {\n",
       "        vertical-align: top;\n",
       "    }\n",
       "\n",
       "    .dataframe thead th {\n",
       "        text-align: right;\n",
       "    }\n",
       "</style>\n",
       "<table border=\"1\" class=\"dataframe\">\n",
       "  <thead>\n",
       "    <tr style=\"text-align: right;\">\n",
       "      <th></th>\n",
       "      <th>PassengerId</th>\n",
       "      <th>Survived</th>\n",
       "      <th>Pclass</th>\n",
       "      <th>Name</th>\n",
       "      <th>Sex</th>\n",
       "      <th>Age</th>\n",
       "      <th>SibSp</th>\n",
       "      <th>Parch</th>\n",
       "      <th>Ticket</th>\n",
       "      <th>Fare</th>\n",
       "      <th>Cabin</th>\n",
       "      <th>Embarked</th>\n",
       "    </tr>\n",
       "  </thead>\n",
       "  <tbody>\n",
       "    <tr>\n",
       "      <th>0</th>\n",
       "      <td>1</td>\n",
       "      <td>0</td>\n",
       "      <td>3</td>\n",
       "      <td>Braund, Mr. Owen Harris</td>\n",
       "      <td>male</td>\n",
       "      <td>22.0</td>\n",
       "      <td>1</td>\n",
       "      <td>0</td>\n",
       "      <td>A/5 21171</td>\n",
       "      <td>7.2500</td>\n",
       "      <td>NaN</td>\n",
       "      <td>S</td>\n",
       "    </tr>\n",
       "    <tr>\n",
       "      <th>1</th>\n",
       "      <td>2</td>\n",
       "      <td>1</td>\n",
       "      <td>1</td>\n",
       "      <td>Cumings, Mrs. John Bradley (Florence Briggs Th...</td>\n",
       "      <td>female</td>\n",
       "      <td>38.0</td>\n",
       "      <td>1</td>\n",
       "      <td>0</td>\n",
       "      <td>PC 17599</td>\n",
       "      <td>71.2833</td>\n",
       "      <td>C85</td>\n",
       "      <td>C</td>\n",
       "    </tr>\n",
       "    <tr>\n",
       "      <th>2</th>\n",
       "      <td>3</td>\n",
       "      <td>1</td>\n",
       "      <td>3</td>\n",
       "      <td>Heikkinen, Miss. Laina</td>\n",
       "      <td>female</td>\n",
       "      <td>26.0</td>\n",
       "      <td>0</td>\n",
       "      <td>0</td>\n",
       "      <td>STON/O2. 3101282</td>\n",
       "      <td>7.9250</td>\n",
       "      <td>NaN</td>\n",
       "      <td>S</td>\n",
       "    </tr>\n",
       "    <tr>\n",
       "      <th>3</th>\n",
       "      <td>4</td>\n",
       "      <td>1</td>\n",
       "      <td>1</td>\n",
       "      <td>Futrelle, Mrs. Jacques Heath (Lily May Peel)</td>\n",
       "      <td>female</td>\n",
       "      <td>35.0</td>\n",
       "      <td>1</td>\n",
       "      <td>0</td>\n",
       "      <td>113803</td>\n",
       "      <td>53.1000</td>\n",
       "      <td>C123</td>\n",
       "      <td>S</td>\n",
       "    </tr>\n",
       "    <tr>\n",
       "      <th>4</th>\n",
       "      <td>5</td>\n",
       "      <td>0</td>\n",
       "      <td>3</td>\n",
       "      <td>Allen, Mr. William Henry</td>\n",
       "      <td>male</td>\n",
       "      <td>35.0</td>\n",
       "      <td>0</td>\n",
       "      <td>0</td>\n",
       "      <td>373450</td>\n",
       "      <td>8.0500</td>\n",
       "      <td>NaN</td>\n",
       "      <td>S</td>\n",
       "    </tr>\n",
       "  </tbody>\n",
       "</table>\n",
       "</div>"
      ],
      "text/plain": [
       "   PassengerId  Survived  Pclass   \n",
       "0            1         0       3  \\\n",
       "1            2         1       1   \n",
       "2            3         1       3   \n",
       "3            4         1       1   \n",
       "4            5         0       3   \n",
       "\n",
       "                                                Name     Sex   Age  SibSp   \n",
       "0                            Braund, Mr. Owen Harris    male  22.0      1  \\\n",
       "1  Cumings, Mrs. John Bradley (Florence Briggs Th...  female  38.0      1   \n",
       "2                             Heikkinen, Miss. Laina  female  26.0      0   \n",
       "3       Futrelle, Mrs. Jacques Heath (Lily May Peel)  female  35.0      1   \n",
       "4                           Allen, Mr. William Henry    male  35.0      0   \n",
       "\n",
       "   Parch            Ticket     Fare Cabin Embarked  \n",
       "0      0         A/5 21171   7.2500   NaN        S  \n",
       "1      0          PC 17599  71.2833   C85        C  \n",
       "2      0  STON/O2. 3101282   7.9250   NaN        S  \n",
       "3      0            113803  53.1000  C123        S  \n",
       "4      0            373450   8.0500   NaN        S  "
      ]
     },
     "execution_count": 4,
     "metadata": {},
     "output_type": "execute_result"
    }
   ],
   "source": [
    "#taking a look in the data\n",
    "dt_train.head()"
   ]
  },
  {
   "cell_type": "code",
   "execution_count": 5,
   "metadata": {},
   "outputs": [
    {
     "data": {
      "text/plain": [
       "array([1, 0, 3, 4, 2, 5, 8])"
      ]
     },
     "execution_count": 5,
     "metadata": {},
     "output_type": "execute_result"
    }
   ],
   "source": [
    "#SibSp is a column that have the numbers of siblins and spouses on boat of someone\n",
    "#We can see that some people have 0 - 8 others SibSp with them\n",
    "dt_train['SibSp'].unique()"
   ]
  },
  {
   "cell_type": "code",
   "execution_count": 6,
   "metadata": {},
   "outputs": [
    {
     "data": {
      "text/plain": [
       "['Cumings, Mrs. John Bradley (Florence Briggs Thayer)',\n",
       " 'Thayer, Mr. John Borland Jr',\n",
       " 'Thayer, Mrs. John Borland (Marian Longstreth Morris)',\n",
       " 'Thayer, Mr. John Borland']"
      ]
     },
     "execution_count": 6,
     "metadata": {},
     "output_type": "execute_result"
    }
   ],
   "source": [
    "#A way to know who is the SibSp of someone is looking for their surname\n",
    "matchs = []\n",
    "for n in dt_train['Name']:\n",
    "    if \"Thayer\" in n:\n",
    "        matchs.append(n)\n",
    "matchs"
   ]
  },
  {
   "cell_type": "code",
   "execution_count": 7,
   "metadata": {
    "scrolled": true
   },
   "outputs": [
    {
     "data": {
      "text/html": [
       "<div>\n",
       "<style scoped>\n",
       "    .dataframe tbody tr th:only-of-type {\n",
       "        vertical-align: middle;\n",
       "    }\n",
       "\n",
       "    .dataframe tbody tr th {\n",
       "        vertical-align: top;\n",
       "    }\n",
       "\n",
       "    .dataframe thead th {\n",
       "        text-align: right;\n",
       "    }\n",
       "</style>\n",
       "<table border=\"1\" class=\"dataframe\">\n",
       "  <thead>\n",
       "    <tr style=\"text-align: right;\">\n",
       "      <th></th>\n",
       "      <th>PassengerId</th>\n",
       "      <th>Survived</th>\n",
       "      <th>Pclass</th>\n",
       "      <th>Name</th>\n",
       "      <th>Sex</th>\n",
       "      <th>Age</th>\n",
       "      <th>SibSp</th>\n",
       "      <th>Parch</th>\n",
       "      <th>Ticket</th>\n",
       "      <th>Fare</th>\n",
       "      <th>Cabin</th>\n",
       "      <th>Embarked</th>\n",
       "    </tr>\n",
       "  </thead>\n",
       "  <tbody>\n",
       "    <tr>\n",
       "      <th>581</th>\n",
       "      <td>582</td>\n",
       "      <td>1</td>\n",
       "      <td>1</td>\n",
       "      <td>Thayer, Mrs. John Borland (Marian Longstreth M...</td>\n",
       "      <td>female</td>\n",
       "      <td>39.0</td>\n",
       "      <td>1</td>\n",
       "      <td>1</td>\n",
       "      <td>17421</td>\n",
       "      <td>110.8833</td>\n",
       "      <td>C68</td>\n",
       "      <td>C</td>\n",
       "    </tr>\n",
       "  </tbody>\n",
       "</table>\n",
       "</div>"
      ],
      "text/plain": [
       "     PassengerId  Survived  Pclass   \n",
       "581          582         1       1  \\\n",
       "\n",
       "                                                  Name     Sex   Age  SibSp   \n",
       "581  Thayer, Mrs. John Borland (Marian Longstreth M...  female  39.0      1  \\\n",
       "\n",
       "     Parch Ticket      Fare Cabin Embarked  \n",
       "581      1  17421  110.8833   C68        C  "
      ]
     },
     "execution_count": 7,
     "metadata": {},
     "output_type": "execute_result"
    }
   ],
   "source": [
    "# If a woman is married the name of her husband appear before and her name appear in brackets\n",
    "# Taking a look in the Miss Marian\n",
    "dt_train[dt_train['Name'] == \"Thayer, Mrs. John Borland (Marian Longstreth Morris)\"]"
   ]
  },
  {
   "cell_type": "code",
   "execution_count": 8,
   "metadata": {},
   "outputs": [
    {
     "data": {
      "text/html": [
       "<div>\n",
       "<style scoped>\n",
       "    .dataframe tbody tr th:only-of-type {\n",
       "        vertical-align: middle;\n",
       "    }\n",
       "\n",
       "    .dataframe tbody tr th {\n",
       "        vertical-align: top;\n",
       "    }\n",
       "\n",
       "    .dataframe thead th {\n",
       "        text-align: right;\n",
       "    }\n",
       "</style>\n",
       "<table border=\"1\" class=\"dataframe\">\n",
       "  <thead>\n",
       "    <tr style=\"text-align: right;\">\n",
       "      <th></th>\n",
       "      <th>PassengerId</th>\n",
       "      <th>Survived</th>\n",
       "      <th>Pclass</th>\n",
       "      <th>Name</th>\n",
       "      <th>Sex</th>\n",
       "      <th>Age</th>\n",
       "      <th>SibSp</th>\n",
       "      <th>Parch</th>\n",
       "      <th>Ticket</th>\n",
       "      <th>Fare</th>\n",
       "      <th>Cabin</th>\n",
       "      <th>Embarked</th>\n",
       "    </tr>\n",
       "  </thead>\n",
       "  <tbody>\n",
       "    <tr>\n",
       "      <th>550</th>\n",
       "      <td>551</td>\n",
       "      <td>1</td>\n",
       "      <td>1</td>\n",
       "      <td>Thayer, Mr. John Borland Jr</td>\n",
       "      <td>male</td>\n",
       "      <td>17.0</td>\n",
       "      <td>0</td>\n",
       "      <td>2</td>\n",
       "      <td>17421</td>\n",
       "      <td>110.8833</td>\n",
       "      <td>C70</td>\n",
       "      <td>C</td>\n",
       "    </tr>\n",
       "    <tr>\n",
       "      <th>581</th>\n",
       "      <td>582</td>\n",
       "      <td>1</td>\n",
       "      <td>1</td>\n",
       "      <td>Thayer, Mrs. John Borland (Marian Longstreth M...</td>\n",
       "      <td>female</td>\n",
       "      <td>39.0</td>\n",
       "      <td>1</td>\n",
       "      <td>1</td>\n",
       "      <td>17421</td>\n",
       "      <td>110.8833</td>\n",
       "      <td>C68</td>\n",
       "      <td>C</td>\n",
       "    </tr>\n",
       "    <tr>\n",
       "      <th>698</th>\n",
       "      <td>699</td>\n",
       "      <td>0</td>\n",
       "      <td>1</td>\n",
       "      <td>Thayer, Mr. John Borland</td>\n",
       "      <td>male</td>\n",
       "      <td>49.0</td>\n",
       "      <td>1</td>\n",
       "      <td>1</td>\n",
       "      <td>17421</td>\n",
       "      <td>110.8833</td>\n",
       "      <td>C68</td>\n",
       "      <td>C</td>\n",
       "    </tr>\n",
       "  </tbody>\n",
       "</table>\n",
       "</div>"
      ],
      "text/plain": [
       "     PassengerId  Survived  Pclass   \n",
       "550          551         1       1  \\\n",
       "581          582         1       1   \n",
       "698          699         0       1   \n",
       "\n",
       "                                                  Name     Sex   Age  SibSp   \n",
       "550                        Thayer, Mr. John Borland Jr    male  17.0      0  \\\n",
       "581  Thayer, Mrs. John Borland (Marian Longstreth M...  female  39.0      1   \n",
       "698                           Thayer, Mr. John Borland    male  49.0      1   \n",
       "\n",
       "     Parch Ticket      Fare Cabin Embarked  \n",
       "550      2  17421  110.8833   C70        C  \n",
       "581      1  17421  110.8833   C68        C  \n",
       "698      1  17421  110.8833   C68        C  "
      ]
     },
     "execution_count": 8,
     "metadata": {},
     "output_type": "execute_result"
    }
   ],
   "source": [
    "# Finding her relatives we can see that Miss Marian has a husband and a son with her\n",
    "dt_train.iloc[[550,581,698]]"
   ]
  },
  {
   "cell_type": "code",
   "execution_count": 9,
   "metadata": {},
   "outputs": [
    {
     "data": {
      "text/plain": [
       "array([[0],\n",
       "       [1],\n",
       "       [0],\n",
       "       [1],\n",
       "       [0]])"
      ]
     },
     "execution_count": 9,
     "metadata": {},
     "output_type": "execute_result"
    }
   ],
   "source": [
    "# Now, we will create a new column saying if a person is married or not\n",
    "## NOTE: In this column doesn't matter if a person is married and spouse isn't on the boat, \n",
    "## that people will be considered married\n",
    "married = np.zeros((len(dt_train['Name']), 1)).astype(int)\n",
    "for n in dt_train['Name']:\n",
    "    count = 0\n",
    "    pos = dt_train[dt_train['Name']==n].index.values.astype(int)[0]\n",
    "    if \"(\" in n:\n",
    "        married[pos] = 1\n",
    "    else:\n",
    "        for t in dt_train['Name']:\n",
    "            if n in t:\n",
    "                count += 1\n",
    "        if count > 1:\n",
    "            married[pos] = 1\n",
    "married[:5]"
   ]
  },
  {
   "cell_type": "code",
   "execution_count": 10,
   "metadata": {
    "scrolled": true
   },
   "outputs": [],
   "source": [
    "# Saving on the data the new column\n",
    "dt_train['Married'] = married"
   ]
  },
  {
   "cell_type": "code",
   "execution_count": 11,
   "metadata": {},
   "outputs": [],
   "source": [
    "# Now, we'll create a new column consider if the spouse of a person is on the boat.\n",
    "spouses_on_boat = np.zeros((len(dt_train['Name']),1)).astype(int)\n",
    "for i in range(len(dt_train['SibSp'])):\n",
    "    s = dt_train.iloc[i]\n",
    "    if int(s['Married']) and s['SibSp'] > 0:\n",
    "        spouses_on_boat[i] = 1\n",
    "dt_train['Spouse_on_boat'] = spouses_on_boat # Saving the new column"
   ]
  },
  {
   "cell_type": "code",
   "execution_count": 12,
   "metadata": {},
   "outputs": [],
   "source": [
    "# Creating a column that will say if a person has sisters on the boat\n",
    "sisters = np.zeros((len(dt_train['Name']), 1)).astype(int)\n",
    "for i in range(len(dt_train['SibSp'])):\n",
    "    s = dt_train.iloc[i]['SibSp'] - dt_train.iloc[i]['Spouse_on_boat']\n",
    "    sisters[i] = s\n",
    "dt_train['Sisters'] = sisters # Saving the new column"
   ]
  },
  {
   "cell_type": "code",
   "execution_count": 13,
   "metadata": {
    "scrolled": true
   },
   "outputs": [
    {
     "name": "stdout",
     "output_type": "stream",
     "text": [
      "<class 'pandas.core.frame.DataFrame'>\n",
      "RangeIndex: 891 entries, 0 to 890\n",
      "Data columns (total 15 columns):\n",
      " #   Column          Non-Null Count  Dtype  \n",
      "---  ------          --------------  -----  \n",
      " 0   PassengerId     891 non-null    int64  \n",
      " 1   Survived        891 non-null    int64  \n",
      " 2   Pclass          891 non-null    int64  \n",
      " 3   Name            891 non-null    object \n",
      " 4   Sex             891 non-null    object \n",
      " 5   Age             714 non-null    float64\n",
      " 6   SibSp           891 non-null    int64  \n",
      " 7   Parch           891 non-null    int64  \n",
      " 8   Ticket          891 non-null    object \n",
      " 9   Fare            891 non-null    float64\n",
      " 10  Cabin           204 non-null    object \n",
      " 11  Embarked        889 non-null    object \n",
      " 12  Married         891 non-null    int64  \n",
      " 13  Spouse_on_boat  891 non-null    int64  \n",
      " 14  Sisters         891 non-null    int64  \n",
      "dtypes: float64(2), int64(8), object(5)\n",
      "memory usage: 104.5+ KB\n"
     ]
    }
   ],
   "source": [
    "# Taking a look in the data we will see data has some NaN in \"Age\" column\n",
    "\n",
    "dt_train.info()"
   ]
  },
  {
   "cell_type": "code",
   "execution_count": 14,
   "metadata": {},
   "outputs": [],
   "source": [
    "# How \"Cabin\" has only 204 registers we will remove from data\n",
    "dt_train = dt_train.drop(columns=['Cabin']) #another way: dt_train.drop('Cabin', axis=1, inplace=True)"
   ]
  },
  {
   "cell_type": "code",
   "execution_count": 15,
   "metadata": {
    "scrolled": true
   },
   "outputs": [],
   "source": [
    "# How we have 714 of 891 registers in \"age\" column, we will fill in the column with mean of all ages\n",
    "dt_train['Age'].fillna(round(dt_train['Age'].mean(), 2), inplace=True)"
   ]
  },
  {
   "cell_type": "code",
   "execution_count": 16,
   "metadata": {},
   "outputs": [],
   "source": [
    "# Removing the off data in 'Embarked' column.\n",
    "dt_train = dt_train.dropna(subset=['Embarked'])"
   ]
  },
  {
   "cell_type": "code",
   "execution_count": 17,
   "metadata": {},
   "outputs": [
    {
     "data": {
      "text/plain": [
       "array(['S', 'C', 'Q'], dtype=object)"
      ]
     },
     "execution_count": 17,
     "metadata": {},
     "output_type": "execute_result"
    }
   ],
   "source": [
    "# Columun 'Embarked' has only 3 types. It's a categorical colum\n",
    "dt_train['Embarked'].unique()"
   ]
  },
  {
   "cell_type": "code",
   "execution_count": 18,
   "metadata": {
    "scrolled": true
   },
   "outputs": [
    {
     "data": {
      "text/plain": [
       "array([2, 0, 1])"
      ]
     },
     "execution_count": 18,
     "metadata": {},
     "output_type": "execute_result"
    }
   ],
   "source": [
    "# Transformando atributos categóricos em valores numérc\n",
    "from sklearn.preprocessing import LabelEncoder\n",
    "\n",
    "le_emb = LabelEncoder()\n",
    "le_sex = LabelEncoder()\n",
    "dt_train['Embarked'] = le_emb.fit_transform(dt_train['Embarked'])\n",
    "dt_train['Sex'] = le_sex.fit_transform(dt_train['Sex'])\n",
    "dt_train['Embarked'].unique()"
   ]
  },
  {
   "cell_type": "code",
   "execution_count": 19,
   "metadata": {},
   "outputs": [
    {
     "data": {
      "text/plain": [
       "array(['female', 'male'], dtype=object)"
      ]
     },
     "execution_count": 19,
     "metadata": {},
     "output_type": "execute_result"
    }
   ],
   "source": [
    "le_sex.classes_"
   ]
  },
  {
   "cell_type": "code",
   "execution_count": 20,
   "metadata": {
    "scrolled": false
   },
   "outputs": [
    {
     "data": {
      "text/plain": [
       "count    889.000000\n",
       "mean      32.096681\n",
       "std       49.697504\n",
       "min        0.000000\n",
       "25%        7.895800\n",
       "50%       14.454200\n",
       "75%       31.000000\n",
       "max      512.329200\n",
       "Name: Fare, dtype: float64"
      ]
     },
     "execution_count": 20,
     "metadata": {},
     "output_type": "execute_result"
    }
   ],
   "source": [
    "# Now, fare comlumn has a large difference between the mean and the max number\n",
    "dt_train.describe()['Fare']"
   ]
  },
  {
   "cell_type": "code",
   "execution_count": 21,
   "metadata": {},
   "outputs": [
    {
     "data": {
      "text/plain": [
       "PassengerId       3\n",
       "Survived          3\n",
       "Pclass            3\n",
       "Name              3\n",
       "Sex               3\n",
       "Age               3\n",
       "SibSp             3\n",
       "Parch             3\n",
       "Ticket            3\n",
       "Fare              3\n",
       "Embarked          3\n",
       "Married           3\n",
       "Spouse_on_boat    3\n",
       "Sisters           3\n",
       "dtype: int64"
      ]
     },
     "execution_count": 21,
     "metadata": {},
     "output_type": "execute_result"
    }
   ],
   "source": [
    "# Only 3 persons has fare > 263 and it can be a problem in ml algoritms\n",
    "dt_train[dt_train['Fare'] > 263].count()"
   ]
  },
  {
   "cell_type": "code",
   "execution_count": 22,
   "metadata": {},
   "outputs": [
    {
     "data": {
      "text/plain": [
       "[<matplotlib.axis.YTick at 0x7fc0d14e8ac0>,\n",
       " <matplotlib.axis.YTick at 0x7fc0d14e8550>,\n",
       " <matplotlib.axis.YTick at 0x7fc0d179f850>,\n",
       " <matplotlib.axis.YTick at 0x7fc0d14c7310>,\n",
       " <matplotlib.axis.YTick at 0x7fc0d14c7dc0>,\n",
       " <matplotlib.axis.YTick at 0x7fc0d14cd8b0>,\n",
       " <matplotlib.axis.YTick at 0x7fc0d14c74c0>]"
      ]
     },
     "execution_count": 22,
     "metadata": {},
     "output_type": "execute_result"
    },
    {
     "data": {
      "image/png": "[encoded data removed]",
      "text/plain": [
       "<Figure size 640x480 with 1 Axes>"
      ]
     },
     "metadata": {},
     "output_type": "display_data"
    }
   ],
   "source": [
    "#taking a look in a graphic\n",
    "import matplotlib.pyplot as plt\n",
    "\n",
    "fig = plt.figure()\n",
    "fig_fare = fig.add_subplot(1,1,1)\n",
    "fig_fare.plot(dt_train['Fare'])\n",
    "fig_fare.plot(np.full((889, 1), 263), label='Discrepant values', linestyle=\"--\")\n",
    "fig_fare.legend(loc='best')\n",
    "fig_fare.set_title('Fare')\n",
    "fig_fare.set_yticks([0, 100, 200, 263, 300, 400, 500])"
   ]
  },
  {
   "cell_type": "code",
   "execution_count": 23,
   "metadata": {},
   "outputs": [],
   "source": [
    "# removing discrepant values from 'Fare'\n",
    "dt_train = dt_train[dt_train['Fare'] <= 263]"
   ]
  },
  {
   "cell_type": "code",
   "execution_count": 24,
   "metadata": {},
   "outputs": [
    {
     "data": {
      "text/plain": [
       "[<matplotlib.axis.YTick at 0x7fc0cf3f7bb0>,\n",
       " <matplotlib.axis.YTick at 0x7fc0cf3f7550>,\n",
       " <matplotlib.axis.YTick at 0x7fc0e9bf8790>,\n",
       " <matplotlib.axis.YTick at 0x7fc0cf3b5610>,\n",
       " <matplotlib.axis.YTick at 0x7fc0cf3b5e80>,\n",
       " <matplotlib.axis.YTick at 0x7fc0cf3bcbb0>,\n",
       " <matplotlib.axis.YTick at 0x7fc0cf402310>]"
      ]
     },
     "execution_count": 24,
     "metadata": {},
     "output_type": "execute_result"
    },
    {
     "data": {
      "image/png": "[encoded data removed]",
      "text/plain": [
       "<Figure size 640x480 with 1 Axes>"
      ]
     },
     "metadata": {},
     "output_type": "display_data"
    }
   ],
   "source": [
    "fig = plt.figure()\n",
    "fig_fare = fig.add_subplot(1,1,1)\n",
    "fig_fare.plot(dt_train['Fare'])\n",
    "fig_fare.plot(np.full((889, 1), 263), label='Discrepant values', linestyle=\"--\")\n",
    "fig_fare.legend(loc='best')\n",
    "fig_fare.set_title('Fare')\n",
    "fig_fare.set_yticks([0, 100, 200, 263, 300, 400, 500])"
   ]
  },
  {
   "cell_type": "code",
   "execution_count": 25,
   "metadata": {},
   "outputs": [
    {
     "data": {
      "text/html": [
       "<div>\n",
       "<style scoped>\n",
       "    .dataframe tbody tr th:only-of-type {\n",
       "        vertical-align: middle;\n",
       "    }\n",
       "\n",
       "    .dataframe tbody tr th {\n",
       "        vertical-align: top;\n",
       "    }\n",
       "\n",
       "    .dataframe thead th {\n",
       "        text-align: right;\n",
       "    }\n",
       "</style>\n",
       "<table border=\"1\" class=\"dataframe\">\n",
       "  <thead>\n",
       "    <tr style=\"text-align: right;\">\n",
       "      <th></th>\n",
       "      <th>PassengerId</th>\n",
       "      <th>Survived</th>\n",
       "      <th>Pclass</th>\n",
       "      <th>Name</th>\n",
       "      <th>Sex</th>\n",
       "      <th>Age</th>\n",
       "      <th>SibSp</th>\n",
       "      <th>Parch</th>\n",
       "      <th>Ticket</th>\n",
       "      <th>Fare</th>\n",
       "      <th>Embarked</th>\n",
       "      <th>Married</th>\n",
       "      <th>Spouse_on_boat</th>\n",
       "      <th>Sisters</th>\n",
       "    </tr>\n",
       "  </thead>\n",
       "  <tbody>\n",
       "    <tr>\n",
       "      <th>8</th>\n",
       "      <td>9</td>\n",
       "      <td>1</td>\n",
       "      <td>3</td>\n",
       "      <td>Johnson, Mrs. Oscar W (Elisabeth Vilhelmina Berg)</td>\n",
       "      <td>0</td>\n",
       "      <td>27.0</td>\n",
       "      <td>0</td>\n",
       "      <td>2</td>\n",
       "      <td>347742</td>\n",
       "      <td>11.1333</td>\n",
       "      <td>2</td>\n",
       "      <td>1</td>\n",
       "      <td>0</td>\n",
       "      <td>0</td>\n",
       "    </tr>\n",
       "    <tr>\n",
       "      <th>172</th>\n",
       "      <td>173</td>\n",
       "      <td>1</td>\n",
       "      <td>3</td>\n",
       "      <td>Johnson, Miss. Eleanor Ileen</td>\n",
       "      <td>0</td>\n",
       "      <td>1.0</td>\n",
       "      <td>1</td>\n",
       "      <td>1</td>\n",
       "      <td>347742</td>\n",
       "      <td>11.1333</td>\n",
       "      <td>2</td>\n",
       "      <td>0</td>\n",
       "      <td>0</td>\n",
       "      <td>1</td>\n",
       "    </tr>\n",
       "    <tr>\n",
       "      <th>869</th>\n",
       "      <td>870</td>\n",
       "      <td>1</td>\n",
       "      <td>3</td>\n",
       "      <td>Johnson, Master. Harold Theodor</td>\n",
       "      <td>1</td>\n",
       "      <td>4.0</td>\n",
       "      <td>1</td>\n",
       "      <td>1</td>\n",
       "      <td>347742</td>\n",
       "      <td>11.1333</td>\n",
       "      <td>2</td>\n",
       "      <td>0</td>\n",
       "      <td>0</td>\n",
       "      <td>1</td>\n",
       "    </tr>\n",
       "  </tbody>\n",
       "</table>\n",
       "</div>"
      ],
      "text/plain": [
       "     PassengerId  Survived  Pclass   \n",
       "8              9         1       3  \\\n",
       "172          173         1       3   \n",
       "869          870         1       3   \n",
       "\n",
       "                                                  Name  Sex   Age  SibSp   \n",
       "8    Johnson, Mrs. Oscar W (Elisabeth Vilhelmina Berg)    0  27.0      0  \\\n",
       "172                       Johnson, Miss. Eleanor Ileen    0   1.0      1   \n",
       "869                    Johnson, Master. Harold Theodor    1   4.0      1   \n",
       "\n",
       "     Parch  Ticket     Fare  Embarked  Married  Spouse_on_boat  Sisters  \n",
       "8        2  347742  11.1333         2        1               0        0  \n",
       "172      1  347742  11.1333         2        0               0        1  \n",
       "869      1  347742  11.1333         2        0               0        1  "
      ]
     },
     "execution_count": 25,
     "metadata": {},
     "output_type": "execute_result"
    }
   ],
   "source": [
    "# Miss Elisabeth Vilhemina Berg has two relatives on the boat\n",
    "# but we need to know if her relatives are her parents or her childrens\n",
    "# Take a look from Ticket number:\n",
    "\n",
    "dt_train[dt_train['Ticket']==\"347742\"]"
   ]
  },
  {
   "cell_type": "code",
   "execution_count": 26,
   "metadata": {},
   "outputs": [],
   "source": [
    "###NOTE:it is still in implementation\n",
    "\n",
    "## So, we can see Miss Elisabeth has two children of 4 and 1 years old.\n",
    "\n",
    "# Now, we'll create two new columns named \"Son\" and \"Parent\".\n",
    "# How the name says, if the passenger is a \"son\" of someone it is 1, if not, 0.\n",
    "# The same will occurs with Parent row.\n",
    "\n",
    "# relative_or_not = []\n",
    "# for t in dt_train['Ticket']:\n",
    "#    relative_or_not = "
   ]
  },
  {
   "cell_type": "code",
   "execution_count": 27,
   "metadata": {
    "scrolled": true
   },
   "outputs": [
    {
     "data": {
      "text/plain": [
       "Sex              -0.544129\n",
       "Pclass           -0.331075\n",
       "Embarked         -0.162856\n",
       "Sisters          -0.102498\n",
       "Age              -0.076796\n",
       "SibSp            -0.032095\n",
       "PassengerId      -0.006951\n",
       "Parch             0.083691\n",
       "Fare              0.259188\n",
       "Spouse_on_boat    0.262285\n",
       "Married           0.341722\n",
       "Survived          1.000000\n",
       "Name: Survived, dtype: float64"
      ]
     },
     "execution_count": 27,
     "metadata": {},
     "output_type": "execute_result"
    }
   ],
   "source": [
    "# Now, we have the correlation matrix and four of three columns we have modify are very correlation with \"survived\" column\n",
    "# É necessária eliminar as colunas de string para que a matriz de correlação seja calculada\n",
    "dt_train = dt_train.drop(['Name', 'Ticket'], axis=1)\n",
    "corr_matrix = dt_train.corr()\n",
    "corr_matrix['Survived'].sort_values(ascending=True)"
   ]
  },
  {
   "cell_type": "code",
   "execution_count": 28,
   "metadata": {},
   "outputs": [
    {
     "data": {
      "text/html": [
       "<div>\n",
       "<style scoped>\n",
       "    .dataframe tbody tr th:only-of-type {\n",
       "        vertical-align: middle;\n",
       "    }\n",
       "\n",
       "    .dataframe tbody tr th {\n",
       "        vertical-align: top;\n",
       "    }\n",
       "\n",
       "    .dataframe thead th {\n",
       "        text-align: right;\n",
       "    }\n",
       "</style>\n",
       "<table border=\"1\" class=\"dataframe\">\n",
       "  <thead>\n",
       "    <tr style=\"text-align: right;\">\n",
       "      <th></th>\n",
       "      <th>0</th>\n",
       "      <th>1</th>\n",
       "      <th>2</th>\n",
       "      <th>3</th>\n",
       "      <th>4</th>\n",
       "      <th>5</th>\n",
       "      <th>6</th>\n",
       "      <th>7</th>\n",
       "      <th>8</th>\n",
       "      <th>9</th>\n",
       "      <th>10</th>\n",
       "    </tr>\n",
       "  </thead>\n",
       "  <tbody>\n",
       "    <tr>\n",
       "      <th>0</th>\n",
       "      <td>-0.783482</td>\n",
       "      <td>0.821948</td>\n",
       "      <td>0.735438</td>\n",
       "      <td>-0.588223</td>\n",
       "      <td>0.429180</td>\n",
       "      <td>-0.474007</td>\n",
       "      <td>-0.564532</td>\n",
       "      <td>0.583017</td>\n",
       "      <td>-0.440534</td>\n",
       "      <td>-0.323633</td>\n",
       "      <td>0.519261</td>\n",
       "    </tr>\n",
       "    <tr>\n",
       "      <th>1</th>\n",
       "      <td>1.276354</td>\n",
       "      <td>-1.581503</td>\n",
       "      <td>-1.359733</td>\n",
       "      <td>0.644562</td>\n",
       "      <td>0.429180</td>\n",
       "      <td>-0.474007</td>\n",
       "      <td>0.992225</td>\n",
       "      <td>-1.955329</td>\n",
       "      <td>2.269973</td>\n",
       "      <td>3.089922</td>\n",
       "      <td>-0.393567</td>\n",
       "    </tr>\n",
       "    <tr>\n",
       "      <th>2</th>\n",
       "      <td>1.276354</td>\n",
       "      <td>0.821948</td>\n",
       "      <td>-1.359733</td>\n",
       "      <td>-0.280026</td>\n",
       "      <td>-0.476185</td>\n",
       "      <td>-0.474007</td>\n",
       "      <td>-0.548122</td>\n",
       "      <td>0.583017</td>\n",
       "      <td>-0.440534</td>\n",
       "      <td>-0.323633</td>\n",
       "      <td>-0.393567</td>\n",
       "    </tr>\n",
       "    <tr>\n",
       "      <th>3</th>\n",
       "      <td>1.276354</td>\n",
       "      <td>-1.581503</td>\n",
       "      <td>-1.359733</td>\n",
       "      <td>0.413415</td>\n",
       "      <td>0.429180</td>\n",
       "      <td>-0.474007</td>\n",
       "      <td>0.550159</td>\n",
       "      <td>0.583017</td>\n",
       "      <td>2.269973</td>\n",
       "      <td>3.089922</td>\n",
       "      <td>-0.393567</td>\n",
       "    </tr>\n",
       "    <tr>\n",
       "      <th>4</th>\n",
       "      <td>-0.783482</td>\n",
       "      <td>0.821948</td>\n",
       "      <td>0.735438</td>\n",
       "      <td>0.413415</td>\n",
       "      <td>-0.476185</td>\n",
       "      <td>-0.474007</td>\n",
       "      <td>-0.545083</td>\n",
       "      <td>0.583017</td>\n",
       "      <td>-0.440534</td>\n",
       "      <td>-0.323633</td>\n",
       "      <td>-0.393567</td>\n",
       "    </tr>\n",
       "  </tbody>\n",
       "</table>\n",
       "</div>"
      ],
      "text/plain": [
       "         0         1         2         3         4         5         6    \n",
       "0 -0.783482  0.821948  0.735438 -0.588223  0.429180 -0.474007 -0.564532  \\\n",
       "1  1.276354 -1.581503 -1.359733  0.644562  0.429180 -0.474007  0.992225   \n",
       "2  1.276354  0.821948 -1.359733 -0.280026 -0.476185 -0.474007 -0.548122   \n",
       "3  1.276354 -1.581503 -1.359733  0.413415  0.429180 -0.474007  0.550159   \n",
       "4 -0.783482  0.821948  0.735438  0.413415 -0.476185 -0.474007 -0.545083   \n",
       "\n",
       "         7         8         9         10  \n",
       "0  0.583017 -0.440534 -0.323633  0.519261  \n",
       "1 -1.955329  2.269973  3.089922 -0.393567  \n",
       "2  0.583017 -0.440534 -0.323633 -0.393567  \n",
       "3  0.583017  2.269973  3.089922 -0.393567  \n",
       "4  0.583017 -0.440534 -0.323633 -0.393567  "
      ]
     },
     "execution_count": 28,
     "metadata": {},
     "output_type": "execute_result"
    }
   ],
   "source": [
    "from sklearn.preprocessing import StandardScaler\n",
    "# Scaling the data to use in ml algoritm\n",
    "scaler = StandardScaler()\n",
    "target = dt_train[\"Survived\"]\n",
    "dt_train.drop([\"PassengerId\"], axis=1, inplace=True)\n",
    "dt_train_scaled = scaler.fit_transform(dt_train)\n",
    "dt_train_scaled = pd.DataFrame(dt_train_scaled)\n",
    "dt_train_scaled.head()"
   ]
  },
  {
   "cell_type": "code",
   "execution_count": 29,
   "metadata": {
    "scrolled": true
   },
   "outputs": [
    {
     "data": {
      "text/plain": [
       "6    -0.603362\n",
       "0    -0.331075\n",
       "3    -0.327095\n",
       "9    -0.169208\n",
       "8    -0.167305\n",
       "5     0.016579\n",
       "4     0.079490\n",
       "10    0.125393\n",
       "2     0.128689\n",
       "7     0.156002\n",
       "1     1.000000\n",
       "Name: 1, dtype: float64"
      ]
     },
     "execution_count": 29,
     "metadata": {},
     "output_type": "execute_result"
    }
   ],
   "source": [
    "corr_matrix = dt_train_scaled.corr()\n",
    "corr_matrix[1].sort_values(ascending=True)"
   ]
  },
  {
   "cell_type": "code",
   "execution_count": 30,
   "metadata": {},
   "outputs": [
    {
     "data": {
      "text/html": [
       "<style>#sk-container-id-1 {color: black;background-color: white;}#sk-container-id-1 pre{padding: 0;}#sk-container-id-1 div.sk-toggleable {background-color: white;}#sk-container-id-1 label.sk-toggleable__label {cursor: pointer;display: block;width: 100%;margin-bottom: 0;padding: 0.3em;box-sizing: border-box;text-align: center;}#sk-container-id-1 label.sk-toggleable__label-arrow:before {content: \"▸\";float: left;margin-right: 0.25em;color: #696969;}#sk-container-id-1 label.sk-toggleable__label-arrow:hover:before {color: black;}#sk-container-id-1 div.sk-estimator:hover label.sk-toggleable__label-arrow:before {color: black;}#sk-container-id-1 div.sk-toggleable__content {max-height: 0;max-width: 0;overflow: hidden;text-align: left;background-color: #f0f8ff;}#sk-container-id-1 div.sk-toggleable__content pre {margin: 0.2em;color: black;border-radius: 0.25em;background-color: #f0f8ff;}#sk-container-id-1 input.sk-toggleable__control:checked~div.sk-toggleable__content {max-height: 200px;max-width: 100%;overflow: auto;}#sk-container-id-1 input.sk-toggleable__control:checked~label.sk-toggleable__label-arrow:before {content: \"▾\";}#sk-container-id-1 div.sk-estimator input.sk-toggleable__control:checked~label.sk-toggleable__label {background-color: #d4ebff;}#sk-container-id-1 div.sk-label input.sk-toggleable__control:checked~label.sk-toggleable__label {background-color: #d4ebff;}#sk-container-id-1 input.sk-hidden--visually {border: 0;clip: rect(1px 1px 1px 1px);clip: rect(1px, 1px, 1px, 1px);height: 1px;margin: -1px;overflow: hidden;padding: 0;position: absolute;width: 1px;}#sk-container-id-1 div.sk-estimator {font-family: monospace;background-color: #f0f8ff;border: 1px dotted black;border-radius: 0.25em;box-sizing: border-box;margin-bottom: 0.5em;}#sk-container-id-1 div.sk-estimator:hover {background-color: #d4ebff;}#sk-container-id-1 div.sk-parallel-item::after {content: \"\";width: 100%;border-bottom: 1px solid gray;flex-grow: 1;}#sk-container-id-1 div.sk-label:hover label.sk-toggleable__label {background-color: #d4ebff;}#sk-container-id-1 div.sk-serial::before {content: \"\";position: absolute;border-left: 1px solid gray;box-sizing: border-box;top: 0;bottom: 0;left: 50%;z-index: 0;}#sk-container-id-1 div.sk-serial {display: flex;flex-direction: column;align-items: center;background-color: white;padding-right: 0.2em;padding-left: 0.2em;position: relative;}#sk-container-id-1 div.sk-item {position: relative;z-index: 1;}#sk-container-id-1 div.sk-parallel {display: flex;align-items: stretch;justify-content: center;background-color: white;position: relative;}#sk-container-id-1 div.sk-item::before, #sk-container-id-1 div.sk-parallel-item::before {content: \"\";position: absolute;border-left: 1px solid gray;box-sizing: border-box;top: 0;bottom: 0;left: 50%;z-index: -1;}#sk-container-id-1 div.sk-parallel-item {display: flex;flex-direction: column;z-index: 1;position: relative;background-color: white;}#sk-container-id-1 div.sk-parallel-item:first-child::after {align-self: flex-end;width: 50%;}#sk-container-id-1 div.sk-parallel-item:last-child::after {align-self: flex-start;width: 50%;}#sk-container-id-1 div.sk-parallel-item:only-child::after {width: 0;}#sk-container-id-1 div.sk-dashed-wrapped {border: 1px dashed gray;margin: 0 0.4em 0.5em 0.4em;box-sizing: border-box;padding-bottom: 0.4em;background-color: white;}#sk-container-id-1 div.sk-label label {font-family: monospace;font-weight: bold;display: inline-block;line-height: 1.2em;}#sk-container-id-1 div.sk-label-container {text-align: center;}#sk-container-id-1 div.sk-container {/* jupyter's `normalize.less` sets `[hidden] { display: none; }` but bootstrap.min.css set `[hidden] { display: none !important; }` so we also need the `!important` here to be able to override the default hidden behavior on the sphinx rendered scikit-learn.org. See: https://github.com/scikit-learn/scikit-learn/issues/21755 */display: inline-block !important;position: relative;}#sk-container-id-1 div.sk-text-repr-fallback {display: none;}</style><div id=\"sk-container-id-1\" class=\"sk-top-container\"><div class=\"sk-text-repr-fallback\"><pre>LogisticRegression()</pre><b>In a Jupyter environment, please rerun this cell to show the HTML representation or trust the notebook. <br />On GitHub, the HTML representation is unable to render, please try loading this page with nbviewer.org.</b></div><div class=\"sk-container\" hidden><div class=\"sk-item\"><div class=\"sk-estimator sk-toggleable\"><input class=\"sk-toggleable__control sk-hidden--visually\" id=\"sk-estimator-id-1\" type=\"checkbox\" checked><label for=\"sk-estimator-id-1\" class=\"sk-toggleable__label sk-toggleable__label-arrow\">LogisticRegression</label><div class=\"sk-toggleable__content\"><pre>LogisticRegression()</pre></div></div></div></div></div>"
      ],
      "text/plain": [
       "LogisticRegression()"
      ]
     },
     "execution_count": 30,
     "metadata": {},
     "output_type": "execute_result"
    }
   ],
   "source": [
    "dt_train_scaled.drop(1, axis=1, inplace=True)\n",
    "\n",
    "from sklearn.linear_model import LogisticRegression\n",
    "#aplying the Logistic Regression algoritm\n",
    "log_r = LogisticRegression()\n",
    "log_r.fit(dt_train_scaled, target)"
   ]
  },
  {
   "cell_type": "code",
   "execution_count": 31,
   "metadata": {},
   "outputs": [],
   "source": [
    "proba = log_r.predict_proba(dt_train_scaled)"
   ]
  },
  {
   "cell_type": "code",
   "execution_count": 32,
   "metadata": {
    "scrolled": true
   },
   "outputs": [
    {
     "data": {
      "text/plain": [
       "(array([[337.,   0.,   0.,   0.,   0.,   0.,   0.,   0.,   0., 549.],\n",
       "        [549.,   0.,   0.,   0.,   0.,   0.,   0.,   0.,   0., 337.]]),\n",
       " array([8.08442819e-04, 1.00646754e-01, 2.00485066e-01, 3.00323377e-01,\n",
       "        4.00161689e-01, 5.00000000e-01, 5.99838311e-01, 6.99676623e-01,\n",
       "        7.99514934e-01, 8.99353246e-01, 9.99191557e-01]),\n",
       " <a list of 2 BarContainer objects>)"
      ]
     },
     "execution_count": 32,
     "metadata": {},
     "output_type": "execute_result"
    },
    {
     "data": {
      "image/png": "[encoded data removed]",
      "text/plain": [
       "<Figure size 640x480 with 1 Axes>"
      ]
     },
     "metadata": {},
     "output_type": "display_data"
    }
   ],
   "source": [
    "proba_fig = plt.figure()\n",
    "p = proba_fig.add_subplot()\n",
    "p.hist(proba)"
   ]
  },
  {
   "cell_type": "code",
   "execution_count": 33,
   "metadata": {},
   "outputs": [
    {
     "data": {
      "text/plain": [
       "array([0, 1, 1, 1, 0])"
      ]
     },
     "execution_count": 33,
     "metadata": {},
     "output_type": "execute_result"
    }
   ],
   "source": [
    "pred = log_r.predict(dt_train_scaled)\n",
    "pred[0:5]"
   ]
  },
  {
   "cell_type": "code",
   "execution_count": 35,
   "metadata": {},
   "outputs": [
    {
     "data": {
      "text/html": [
       "<div>\n",
       "<style scoped>\n",
       "    .dataframe tbody tr th:only-of-type {\n",
       "        vertical-align: middle;\n",
       "    }\n",
       "\n",
       "    .dataframe tbody tr th {\n",
       "        vertical-align: top;\n",
       "    }\n",
       "\n",
       "    .dataframe thead th {\n",
       "        text-align: right;\n",
       "    }\n",
       "</style>\n",
       "<table border=\"1\" class=\"dataframe\">\n",
       "  <thead>\n",
       "    <tr style=\"text-align: right;\">\n",
       "      <th></th>\n",
       "      <th>0</th>\n",
       "      <th>1</th>\n",
       "      <th>2</th>\n",
       "      <th>3</th>\n",
       "      <th>4</th>\n",
       "      <th>5</th>\n",
       "      <th>6</th>\n",
       "      <th>7</th>\n",
       "      <th>8</th>\n",
       "      <th>9</th>\n",
       "    </tr>\n",
       "  </thead>\n",
       "  <tbody>\n",
       "    <tr>\n",
       "      <th>0</th>\n",
       "      <td>0.873482</td>\n",
       "      <td>0.755929</td>\n",
       "      <td>0.594801</td>\n",
       "      <td>-0.499470</td>\n",
       "      <td>-0.400248</td>\n",
       "      <td>-0.496637</td>\n",
       "      <td>-0.470915</td>\n",
       "      <td>-0.478969</td>\n",
       "      <td>-0.329778</td>\n",
       "      <td>-0.397338</td>\n",
       "    </tr>\n",
       "    <tr>\n",
       "      <th>1</th>\n",
       "      <td>0.873482</td>\n",
       "      <td>-1.322876</td>\n",
       "      <td>1.305896</td>\n",
       "      <td>0.616992</td>\n",
       "      <td>-0.400248</td>\n",
       "      <td>-0.511497</td>\n",
       "      <td>0.700767</td>\n",
       "      <td>2.087816</td>\n",
       "      <td>3.032346</td>\n",
       "      <td>-0.397338</td>\n",
       "    </tr>\n",
       "    <tr>\n",
       "      <th>2</th>\n",
       "      <td>-0.315819</td>\n",
       "      <td>0.755929</td>\n",
       "      <td>2.159209</td>\n",
       "      <td>-0.499470</td>\n",
       "      <td>-0.400248</td>\n",
       "      <td>-0.463335</td>\n",
       "      <td>-0.470915</td>\n",
       "      <td>-0.478969</td>\n",
       "      <td>-0.329778</td>\n",
       "      <td>-0.397338</td>\n",
       "    </tr>\n",
       "    <tr>\n",
       "      <th>3</th>\n",
       "      <td>0.873482</td>\n",
       "      <td>0.755929</td>\n",
       "      <td>0.168145</td>\n",
       "      <td>-0.499470</td>\n",
       "      <td>-0.400248</td>\n",
       "      <td>-0.481704</td>\n",
       "      <td>0.700767</td>\n",
       "      <td>-0.478969</td>\n",
       "      <td>-0.329778</td>\n",
       "      <td>-0.397338</td>\n",
       "    </tr>\n",
       "    <tr>\n",
       "      <th>4</th>\n",
       "      <td>0.873482</td>\n",
       "      <td>-1.322876</td>\n",
       "      <td>-0.116293</td>\n",
       "      <td>0.616992</td>\n",
       "      <td>0.619896</td>\n",
       "      <td>-0.416740</td>\n",
       "      <td>0.700767</td>\n",
       "      <td>2.087816</td>\n",
       "      <td>3.032346</td>\n",
       "      <td>-0.397338</td>\n",
       "    </tr>\n",
       "    <tr>\n",
       "      <th>...</th>\n",
       "      <td>...</td>\n",
       "      <td>...</td>\n",
       "      <td>...</td>\n",
       "      <td>...</td>\n",
       "      <td>...</td>\n",
       "      <td>...</td>\n",
       "      <td>...</td>\n",
       "      <td>...</td>\n",
       "      <td>...</td>\n",
       "      <td>...</td>\n",
       "    </tr>\n",
       "    <tr>\n",
       "      <th>413</th>\n",
       "      <td>0.873482</td>\n",
       "      <td>0.755929</td>\n",
       "      <td>-1.367819</td>\n",
       "      <td>-0.499470</td>\n",
       "      <td>-0.400248</td>\n",
       "      <td>-0.492680</td>\n",
       "      <td>0.700767</td>\n",
       "      <td>-0.478969</td>\n",
       "      <td>-0.329778</td>\n",
       "      <td>-0.397338</td>\n",
       "    </tr>\n",
       "    <tr>\n",
       "      <th>414</th>\n",
       "      <td>-1.505120</td>\n",
       "      <td>-1.322876</td>\n",
       "      <td>0.850795</td>\n",
       "      <td>-0.499470</td>\n",
       "      <td>-0.400248</td>\n",
       "      <td>1.314641</td>\n",
       "      <td>-1.642598</td>\n",
       "      <td>-0.478969</td>\n",
       "      <td>-0.329778</td>\n",
       "      <td>-0.397338</td>\n",
       "    </tr>\n",
       "    <tr>\n",
       "      <th>415</th>\n",
       "      <td>0.873482</td>\n",
       "      <td>0.755929</td>\n",
       "      <td>0.822352</td>\n",
       "      <td>-0.499470</td>\n",
       "      <td>-0.400248</td>\n",
       "      <td>-0.507017</td>\n",
       "      <td>0.700767</td>\n",
       "      <td>-0.478969</td>\n",
       "      <td>-0.329778</td>\n",
       "      <td>-0.397338</td>\n",
       "    </tr>\n",
       "    <tr>\n",
       "      <th>416</th>\n",
       "      <td>0.873482</td>\n",
       "      <td>0.755929</td>\n",
       "      <td>-1.367819</td>\n",
       "      <td>-0.499470</td>\n",
       "      <td>-0.400248</td>\n",
       "      <td>-0.492680</td>\n",
       "      <td>0.700767</td>\n",
       "      <td>-0.478969</td>\n",
       "      <td>-0.329778</td>\n",
       "      <td>-0.397338</td>\n",
       "    </tr>\n",
       "    <tr>\n",
       "      <th>417</th>\n",
       "      <td>0.873482</td>\n",
       "      <td>0.755929</td>\n",
       "      <td>-1.367819</td>\n",
       "      <td>0.616992</td>\n",
       "      <td>0.619896</td>\n",
       "      <td>-0.236263</td>\n",
       "      <td>-1.642598</td>\n",
       "      <td>-0.478969</td>\n",
       "      <td>-0.329778</td>\n",
       "      <td>0.740246</td>\n",
       "    </tr>\n",
       "  </tbody>\n",
       "</table>\n",
       "<p>418 rows × 10 columns</p>\n",
       "</div>"
      ],
      "text/plain": [
       "            0         1         2         3         4         5         6   \n",
       "0    0.873482  0.755929  0.594801 -0.499470 -0.400248 -0.496637 -0.470915  \\\n",
       "1    0.873482 -1.322876  1.305896  0.616992 -0.400248 -0.511497  0.700767   \n",
       "2   -0.315819  0.755929  2.159209 -0.499470 -0.400248 -0.463335 -0.470915   \n",
       "3    0.873482  0.755929  0.168145 -0.499470 -0.400248 -0.481704  0.700767   \n",
       "4    0.873482 -1.322876 -0.116293  0.616992  0.619896 -0.416740  0.700767   \n",
       "..        ...       ...       ...       ...       ...       ...       ...   \n",
       "413  0.873482  0.755929 -1.367819 -0.499470 -0.400248 -0.492680  0.700767   \n",
       "414 -1.505120 -1.322876  0.850795 -0.499470 -0.400248  1.314641 -1.642598   \n",
       "415  0.873482  0.755929  0.822352 -0.499470 -0.400248 -0.507017  0.700767   \n",
       "416  0.873482  0.755929 -1.367819 -0.499470 -0.400248 -0.492680  0.700767   \n",
       "417  0.873482  0.755929 -1.367819  0.616992  0.619896 -0.236263 -1.642598   \n",
       "\n",
       "            7         8         9  \n",
       "0   -0.478969 -0.329778 -0.397338  \n",
       "1    2.087816  3.032346 -0.397338  \n",
       "2   -0.478969 -0.329778 -0.397338  \n",
       "3   -0.478969 -0.329778 -0.397338  \n",
       "4    2.087816  3.032346 -0.397338  \n",
       "..        ...       ...       ...  \n",
       "413 -0.478969 -0.329778 -0.397338  \n",
       "414 -0.478969 -0.329778 -0.397338  \n",
       "415 -0.478969 -0.329778 -0.397338  \n",
       "416 -0.478969 -0.329778 -0.397338  \n",
       "417 -0.478969 -0.329778  0.740246  \n",
       "\n",
       "[418 rows x 10 columns]"
      ]
     },
     "execution_count": 35,
     "metadata": {},
     "output_type": "execute_result"
    }
   ],
   "source": [
    "from sklearn.metrics import accuracy_score\n",
    "\n",
    "y_test = pd.read_csv(path+\"test.csv\")\n",
    "\n",
    "### PIPELINE\n",
    "\n",
    "y_test['Age'].fillna(round(dt_train['Age'].mean(), 2), inplace=True)\n",
    "\n",
    "# Coluna que indica se o passageiro é casado ou não\n",
    "married = np.zeros((len(y_test['Name']), 1)).astype(int)\n",
    "for n in y_test['Name']:\n",
    "    count = 0\n",
    "    pos = y_test[y_test['Name']==n].index.values.astype(int)[0]\n",
    "    if \"(\" in n:\n",
    "        married[pos] = 1\n",
    "    else:\n",
    "        for t in y_test['Name']:\n",
    "            if n in t:\n",
    "                count += 1\n",
    "        if count > 1:\n",
    "            married[pos] = 1\n",
    "y_test['Married'] = married\n",
    "\n",
    "# Now, we'll create a new column consider if the spouse of a person is on the boat.\n",
    "spouses_on_boat = np.zeros((len(y_test['Name']),1)).astype(int)\n",
    "for i in range(len(y_test['SibSp'])):\n",
    "    s = y_test.iloc[i]\n",
    "    if int(s['Married']) and s['SibSp'] > 0:\n",
    "        spouses_on_boat[i] = 1\n",
    "y_test['Spouse_on_boat'] = spouses_on_boat # Saving the new column\n",
    "\n",
    "# Creating a column that will say if a person has sisters on the boat\n",
    "sisters = np.zeros((len(y_test['Name']), 1)).astype(int)\n",
    "for i in range(len(y_test['SibSp'])):\n",
    "    s = y_test.iloc[i]['SibSp'] - y_test.iloc[i]['Spouse_on_boat']\n",
    "    sisters[i] = s\n",
    "y_test['Sisters'] = sisters # Saving the new column\n",
    "\n",
    "passenger_id = y_test['PassengerId']\n",
    "\n",
    "y_test.drop(['PassengerId','Name', 'Cabin', 'Ticket'], axis=1, inplace=True)\n",
    "\n",
    "le = LabelEncoder()\n",
    "y_test['Embarked'] = le.fit_transform(y_test['Embarked'])\n",
    "y_test['Sex'] = le.fit_transform(y_test['Sex'])\n",
    "\n",
    "# Scaling the data to use in ml algoritm\n",
    "scaler_test = StandardScaler()\n",
    "y_test_scaled = scaler_test.fit_transform(y_test)\n",
    "y_test_scaled = pd.DataFrame(y_test_scaled)\n",
    "y_test_scaled\n"
   ]
  },
  {
   "cell_type": "code",
   "execution_count": 36,
   "metadata": {},
   "outputs": [],
   "source": [
    "pred_test = log_r.predict(y_test_scaled)\n",
    "result_df = pd.DataFrame({'PassengerId': passenger_id, 'Survived': pred_test})"
   ]
  },
  {
   "cell_type": "code",
   "execution_count": 37,
   "metadata": {},
   "outputs": [
    {
     "name": "stdout",
     "output_type": "stream",
     "text": [
      "Acertos: 192\n",
      "Erros: 226\n"
     ]
    }
   ],
   "source": [
    "gender_sub = pd.read_csv(path+\"gender_submission.csv\")\n",
    "total_correct = 0\n",
    "total_incorrect = 0\n",
    "for i in gender_sub.itertuples():\n",
    "    if result_df.iloc[i[0]]['Survived'] == gender_sub.iloc[i[0]]['Survived']:\n",
    "        total_correct = total_correct+1\n",
    "    else:\n",
    "        total_incorrect = total_incorrect + 1\n",
    "print('Acertos: '+str(total_correct))\n",
    "print('Erros: '+str(total_incorrect))"
   ]
  },
  {
   "cell_type": "code",
   "execution_count": 39,
   "metadata": {},
   "outputs": [
    {
     "data": {
      "text/plain": [
       "0.45933014354066987"
      ]
     },
     "execution_count": 39,
     "metadata": {},
     "output_type": "execute_result"
    }
   ],
   "source": [
    "from sklearn.metrics import accuracy_score\n",
    "\n",
    "accr = accuracy_score(gender_sub['Survived'], pred_test)\n",
    "accr"
   ]
  },
  {
   "cell_type": "code",
   "execution_count": 40,
   "metadata": {
    "scrolled": false
   },
   "outputs": [
    {
     "name": "stderr",
     "output_type": "stream",
     "text": [
      "/home/joaolevi/.local/lib/python3.8/site-packages/sklearn/linear_model/_logistic.py:458: ConvergenceWarning: lbfgs failed to converge (status=1):\n",
      "STOP: TOTAL NO. of ITERATIONS REACHED LIMIT.\n",
      "\n",
      "Increase the number of iterations (max_iter) or scale the data as shown in:\n",
      "    https://scikit-learn.org/stable/modules/preprocessing.html\n",
      "Please also refer to the documentation for alternative solver options:\n",
      "    https://scikit-learn.org/stable/modules/linear_model.html#logistic-regression\n",
      "  n_iter_i = _check_optimize_result(\n"
     ]
    },
    {
     "data": {
      "text/plain": [
       "0.9234449760765551"
      ]
     },
     "execution_count": 40,
     "metadata": {},
     "output_type": "execute_result"
    }
   ],
   "source": [
    "dt_train_full = dt_train.drop('Survived', axis=1)\n",
    "\n",
    "log_r_without_scaling = LogisticRegression()\n",
    "log_r_without_scaling.fit(dt_train_full, target)\n",
    "\n",
    "pred_without_scaling = log_r_without_scaling.predict(y_test)\n",
    "\n",
    "accr_without_scaling = accuracy_score(gender_sub['Survived'], pred_without_scaling)\n",
    "accr_without_scaling"
   ]
  },
  {
   "cell_type": "code",
   "execution_count": null,
   "metadata": {},
   "outputs": [],
   "source": []
  }
 ],
 "metadata": {
  "kernelspec": {
   "display_name": "Python 3 (ipykernel)",
   "language": "python",
   "name": "python3"
  },
  "language_info": {
   "codemirror_mode": {
    "name": "ipython",
    "version": 3
   },
   "file_extension": ".py",
   "mimetype": "text/x-python",
   "name": "python",
   "nbconvert_exporter": "python",
   "pygments_lexer": "ipython3",
   "version": "3.8.10"
  }
 },
 "nbformat": 4,
 "nbformat_minor": 4
}
